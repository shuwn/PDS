{
 "cells": [
  {
   "cell_type": "markdown",
   "metadata": {
    "colab_type": "text",
    "id": "P6xk2_jLsvFF"
   },
   "source": [
    "# [作業目標]\n",
    "\n",
    "1. [簡答題] 請問下列程式碼，運算結果分別為何？\n",
    "\n",
    "```\n",
    "a = np.array( [20,30,40,50] )\n",
    "b = np.array( [1,2,3,4] ) \n",
    "c = 1\n",
    "d = np.array( [1] )\n",
    "e = np.array( [1,2] ) \n",
    "```\n",
    "\n",
    "2. 如何在不用迴圈的情況下計算 (A+B)*(-A/2) ？那用迴圈怎麼做？\n",
    "\n",
    "3. 請問如何計算「1x6 的單位矩陣」和「6x1 的單位矩陣」的內積和外積？"
   ]
  },
  {
   "cell_type": "markdown",
   "metadata": {
    "colab_type": "text",
    "id": "uXGll28asvFS"
   },
   "source": [
    "# 作業 "
   ]
  },
  {
   "cell_type": "markdown",
   "metadata": {},
   "source": [
    "### 1. [簡答題] 請問下列程式碼，運算結果分別為何？\n",
    "\n",
    "```\n",
    "a = np.array( [20,30,40,50] )\n",
    "b = np.array( [1,2,3,4] ) \n",
    "c = 1\n",
    "d = np.array( [1] )\n",
    "e = np.array( [1,2] ) \n",
    "```\n"
   ]
  },
  {
   "cell_type": "code",
   "execution_count": 1,
   "metadata": {},
   "outputs": [],
   "source": [
    "import numpy as np\n",
    "a = np.array( [20,30,40,50] )\n",
    "b = np.array( [1,2,3,4] ) \n",
    "c = 1\n",
    "d = np.array( [1] )\n",
    "e = np.array( [1,2] ) "
   ]
  },
  {
   "cell_type": "code",
   "execution_count": 2,
   "metadata": {
    "colab": {},
    "colab_type": "code",
    "id": "5QrYoyNWsvFS"
   },
   "outputs": [
    {
     "name": "stdout",
     "output_type": "stream",
     "text": [
      "[ 40  60  80 100]\n",
      "[21 32 43 54]\n",
      "[21 31 41 51]\n",
      "[21 31 41 51]\n"
     ]
    },
    {
     "ename": "ValueError",
     "evalue": "operands could not be broadcast together with shapes (4,) (2,) ",
     "output_type": "error",
     "traceback": [
      "\u001b[0;31m---------------------------------------------------------------------------\u001b[0m",
      "\u001b[0;31mValueError\u001b[0m                                Traceback (most recent call last)",
      "\u001b[0;32m<ipython-input-2-2290c274a189>\u001b[0m in \u001b[0;36m<module>\u001b[0;34m\u001b[0m\n\u001b[1;32m      3\u001b[0m \u001b[0mprint\u001b[0m\u001b[0;34m(\u001b[0m\u001b[0ma\u001b[0m \u001b[0;34m+\u001b[0m \u001b[0mc\u001b[0m\u001b[0;34m)\u001b[0m\u001b[0;34m\u001b[0m\u001b[0;34m\u001b[0m\u001b[0m\n\u001b[1;32m      4\u001b[0m \u001b[0mprint\u001b[0m\u001b[0;34m(\u001b[0m\u001b[0ma\u001b[0m \u001b[0;34m+\u001b[0m \u001b[0md\u001b[0m\u001b[0;34m)\u001b[0m\u001b[0;34m\u001b[0m\u001b[0;34m\u001b[0m\u001b[0m\n\u001b[0;32m----> 5\u001b[0;31m \u001b[0mprint\u001b[0m\u001b[0;34m(\u001b[0m\u001b[0ma\u001b[0m \u001b[0;34m+\u001b[0m \u001b[0me\u001b[0m\u001b[0;34m)\u001b[0m\u001b[0;34m\u001b[0m\u001b[0;34m\u001b[0m\u001b[0m\n\u001b[0m",
      "\u001b[0;31mValueError\u001b[0m: operands could not be broadcast together with shapes (4,) (2,) "
     ]
    }
   ],
   "source": [
    "print(a + a)\n",
    "print(a + b)\n",
    "print(a + c)\n",
    "print(a + d)\n",
    "print(a + e)"
   ]
  },
  {
   "cell_type": "markdown",
   "metadata": {},
   "source": [
    "### 2. 如何在不用迴圈的情況下計算 (A+B)*(-A/2) ？那用迴圈怎麼做？\n"
   ]
  },
  {
   "cell_type": "code",
   "execution_count": 3,
   "metadata": {},
   "outputs": [],
   "source": [
    "# 記得先 Import 正確的套件\n",
    "\n",
    "import numpy as np\n"
   ]
  },
  {
   "cell_type": "code",
   "execution_count": 4,
   "metadata": {},
   "outputs": [
    {
     "name": "stdout",
     "output_type": "stream",
     "text": [
      "[-1.5 -1.5 -1.5]\n",
      "[-1.5 -1.5 -1.5]\n",
      "------------------\n",
      "[-1.5, -1.5, -1.5]\n"
     ]
    }
   ],
   "source": [
    "A = np.ones(3)*1\n",
    "B = np.ones(3)*2\n",
    "\n",
    "print((A+B)*(-A/2))\n",
    "\n",
    "C = np.empty(3)\n",
    "for i in range(3):\n",
    "    C[i] = (A[i]+B[i])*(-A[i]/2)\n",
    "print(C)\n",
    "\n",
    "print(\"------------------\")\n",
    "c=[]\n",
    "for i,array_a in enumerate(A):\n",
    "    c.append( (A[i] + B[i]) * ((-1*A[i])/2) )\n",
    "print(c)"
   ]
  },
  {
   "cell_type": "markdown",
   "metadata": {},
   "source": [
    "### 3. 請問如何計算「1x6 的單位矩陣」和「6x1 的單位矩陣」的內積和外積？\n"
   ]
  },
  {
   "cell_type": "code",
   "execution_count": 5,
   "metadata": {
    "colab": {},
    "colab_type": "code",
    "id": "e1gVI0tvsvFY"
   },
   "outputs": [
    {
     "name": "stdout",
     "output_type": "stream",
     "text": [
      "[[1. 1. 1. 1. 1. 1.]]\n",
      "[[1.]\n",
      " [1.]\n",
      " [1.]\n",
      " [1.]\n",
      " [1.]\n",
      " [1.]]\n",
      "\n",
      "[[6.]]\n",
      "\n",
      "[[1. 1. 1. 1. 1. 1.]\n",
      " [1. 1. 1. 1. 1. 1.]\n",
      " [1. 1. 1. 1. 1. 1.]\n",
      " [1. 1. 1. 1. 1. 1.]\n",
      " [1. 1. 1. 1. 1. 1.]\n",
      " [1. 1. 1. 1. 1. 1.]]\n"
     ]
    }
   ],
   "source": [
    "A = np.ones((1,6))\n",
    "B = np.ones((6,1))\n",
    "print(A)\n",
    "print(B)\n",
    "print()\n",
    "print(A@B)\n",
    "# 如果a和b都是二維數組，則是矩陣乘法，但首選使用matmul或。a@b\n",
    "# print(np.dot(A,B))\n",
    "print()\n",
    "print(A * B)\n",
    "# print(np.outer(A,B))"
   ]
  },
  {
   "cell_type": "code",
   "execution_count": null,
   "metadata": {},
   "outputs": [],
   "source": []
  }
 ],
 "metadata": {
  "colab": {
   "name": "Day_023_HW.ipynb",
   "provenance": []
  },
  "kernelspec": {
   "display_name": "Python 3",
   "language": "python",
   "name": "python3"
  },
  "language_info": {
   "codemirror_mode": {
    "name": "ipython",
    "version": 3
   },
   "file_extension": ".py",
   "mimetype": "text/x-python",
   "name": "python",
   "nbconvert_exporter": "python",
   "pygments_lexer": "ipython3",
   "version": "3.8.11"
  }
 },
 "nbformat": 4,
 "nbformat_minor": 4
}
