{
 "cells": [
  {
   "cell_type": "markdown",
   "metadata": {
    "id": "XZ5H6uQv1Oo3"
   },
   "source": [
    "# 範例\n",
    "***"
   ]
  },
  {
   "cell_type": "markdown",
   "metadata": {
    "id": "O9XVaI1E1OpA"
   },
   "source": [
    "# [教學目標]\n",
    "\n",
    "* 能夠使用不同的方法初始化一個陣列\n",
    "* 知道固定大小對於陣列的意義\n",
    "* 了解不同的亂數陣列有什麼差異\n",
    "\n"
   ]
  },
  {
   "cell_type": "code",
   "execution_count": 1,
   "metadata": {
    "id": "Z6Hj66lj1OpB",
    "outputId": "d5f18872-c671-43cb-a586-e216ca651d40"
   },
   "outputs": [
    {
     "name": "stdout",
     "output_type": "stream",
     "text": [
      "<module 'numpy' from '/Users/shuwn/opt/anaconda3/lib/python3.8/site-packages/numpy/__init__.py'>\n",
      "1.20.3\n"
     ]
    }
   ],
   "source": [
    "# 載入 NumPy 套件\n",
    "import numpy as np\n",
    "\n",
    "# 檢查正確載入與版本\n",
    "print(np)\n",
    "print(np.__version__)"
   ]
  },
  {
   "cell_type": "code",
   "execution_count": 2,
   "metadata": {
    "id": "77SyjUq01OpD",
    "outputId": "213fca59-8031-4c2f-e9aa-a5c21a69c950"
   },
   "outputs": [
    {
     "data": {
      "text/plain": [
       "array([1, 2, 3])"
      ]
     },
     "execution_count": 2,
     "metadata": {},
     "output_type": "execute_result"
    }
   ],
   "source": [
    "# 內建型態做轉換\n",
    "import numpy as np\n",
    "\n",
    "np.array([1, 2, 3])"
   ]
  },
  {
   "cell_type": "code",
   "execution_count": 3,
   "metadata": {
    "id": "CAVhCEsw1OpE",
    "outputId": "916cef03-6066-4d18-afb2-8e683b80ff13"
   },
   "outputs": [
    {
     "name": "stdout",
     "output_type": "stream",
     "text": [
      "[1. 2. 3.] float64\n",
      "\n",
      "[1.+0.j 2.+0.j 3.+0.j] complex128\n"
     ]
    }
   ],
   "source": [
    "# 會自動轉換成範圍比較大的型態：\n",
    "print(np.array([1, 2, 3.0]), np.array([1, 2, 3.0]).dtype)\n",
    "\n",
    "print()\n",
    "# 也可以指定成想要的型態：\n",
    "print(np.array([1, 2, 3], dtype=complex), np.array([1, 2, 3], dtype=complex).dtype)"
   ]
  },
  {
   "cell_type": "code",
   "execution_count": 4,
   "metadata": {
    "id": "qGssWBdQ1OpE",
    "outputId": "4be02555-56ad-474d-ed02-ae3aa624ae78"
   },
   "outputs": [
    {
     "name": "stdout",
     "output_type": "stream",
     "text": [
      "{0: 123, 1: 456}\n",
      "1\n",
      "\n",
      "[0, 1]\n",
      "[(0, 123), (1, 456)]\n",
      "[[  0 123]\n",
      " [  1 456]]\n",
      "4\n"
     ]
    }
   ],
   "source": [
    "# 字典型態被轉成陣列不符合期待\n",
    "print(np.array({0: 123, 1: 456}))\n",
    "print(np.array({0: 123, 1: 456}).size)\n",
    "\n",
    "print()\n",
    "\n",
    "# 正確的寫法應該寫轉成有序的 List 再作轉換\n",
    "print(list({0: 123, 1:456}))\n",
    "print(list({0: 123, 1:456}.items()))\n",
    "print(np.array(list({0: 123, 1: 456}.items())))\n",
    "print(np.array(list({0: 123, 1: 456}.items())).size)"
   ]
  },
  {
   "cell_type": "code",
   "execution_count": 5,
   "metadata": {
    "id": "fAYl6c3o1OpE",
    "outputId": "3b2ed56b-7a05-4856-ef75-cdb3750d5fc5"
   },
   "outputs": [
    {
     "name": "stdout",
     "output_type": "stream",
     "text": [
      "[[0. 0. 0.]\n",
      " [0. 0. 0.]]\n",
      "\n",
      "[[1. 1. 1.]\n",
      " [1. 1. 1.]]\n",
      "\n",
      "[[9 9 9]\n",
      " [9 9 9]]\n"
     ]
    }
   ],
   "source": [
    "# 從固定大小的初始值開始\n",
    "# 建立由 0 組成的 2x3 陣列\n",
    "print(np.zeros((2, 3)))\n",
    "print()\n",
    "\n",
    "# 建立由 1 組成的 2x3 陣列\n",
    "print(np.ones((2, 3)))\n",
    "print()\n",
    "\n",
    "# 建立由 9 組成的 2x3 陣列\n",
    "print(np.full((2, 3), 9))\n"
   ]
  },
  {
   "cell_type": "code",
   "execution_count": 15,
   "metadata": {
    "id": "YdUe_4e51OpF",
    "outputId": "52c071cf-46eb-4b35-9cb5-6d010f7bf6f5"
   },
   "outputs": [
    {
     "name": "stdout",
     "output_type": "stream",
     "text": [
      "[[0. 0. 0.]\n",
      " [0. 0. 0.]]\n",
      "\n",
      "\n",
      "[[0. 0. 0.]\n",
      " [0. 0. 0.]]\n"
     ]
    }
   ],
   "source": [
    "# np.zeros 和 np.empty \n",
    "\n",
    "print(np.zeros((2, 3)), end=\"\\n\"*2)\n",
    "print()\n",
    "print(np.empty((2, 3)))\n"
   ]
  },
  {
   "cell_type": "code",
   "execution_count": 19,
   "metadata": {
    "id": "oYx_QqYi1OpG",
    "outputId": "275964be-4c8b-41d8-b052-3d2d69adf4b5"
   },
   "outputs": [
    {
     "name": "stdout",
     "output_type": "stream",
     "text": [
      "固定長度的等差序列: [10 15 20 25]\n",
      "\n",
      "固定區間的等差序列: [0.  2.5 5. ]\n",
      "\n",
      "等比序列: [  1.           3.16227766  10.          31.6227766  100.        ]\n"
     ]
    }
   ],
   "source": [
    "# 從固定大小的序列值開始\n",
    "print(\"固定長度的等差序列:\", np.arange( 10, 30, 5 ))\n",
    "print()\n",
    "print(\"固定區間的等差序列:\", np.linspace( 0, 5, 3 ))\n",
    "print()\n",
    "print(\"等比序列:\", np.logspace( 0, 2, 5 ))\n"
   ]
  },
  {
   "cell_type": "code",
   "execution_count": 21,
   "metadata": {
    "id": "pX77QLqn1OpG",
    "outputId": "7047e4a8-b304-47c8-a0f2-ec05090af392"
   },
   "outputs": [
    {
     "name": "stdout",
     "output_type": "stream",
     "text": [
      "亂數常態分佈\n",
      " [[ 0.65936986  0.21452037]\n",
      " [ 0.63735308 -0.77712079]\n",
      " [ 1.47869658  0.52706329]]\n",
      "\n",
      "亂數\n",
      " [[0.52114889 0.07956044]\n",
      " [0.04111862 0.67363603]\n",
      " [0.07687926 0.85069017]]\n",
      "\n",
      "整數\n",
      " [[8 3]\n",
      " [1 0]\n",
      " [3 1]]\n"
     ]
    }
   ],
   "source": [
    "## 從固定大小的亂數值開始（新版）\n",
    "\n",
    "from numpy.random import default_rng\n",
    "rng = default_rng()\n",
    "\n",
    "normal = rng.standard_normal((3,2))\n",
    "random = rng.random((3,2))\n",
    "integers = rng.integers(0, 10, size=(3,2))\n",
    "\n",
    "print(\"亂數常態分佈\\n\", normal)\n",
    "print()\n",
    "print(\"亂數\\n\", random)\n",
    "print()\n",
    "print(\"整數\\n\", integers)"
   ]
  },
  {
   "cell_type": "code",
   "execution_count": 9,
   "metadata": {
    "id": "ReTrub901OpH",
    "outputId": "7a10f7b7-5080-4732-f598-0ee70fb21a9d"
   },
   "outputs": [
    {
     "name": "stdout",
     "output_type": "stream",
     "text": [
      "[[ 0.53704567  0.32855439]\n",
      " [-0.93953405  0.01833321]\n",
      " [ 0.13530439  0.82336005]]\n",
      "\n",
      "[[0.21820832 0.65286311]\n",
      " [0.24532807 0.05011897]\n",
      " [0.59286267 0.261083  ]]\n",
      "\n",
      "[[6 6]\n",
      " [6 3]\n",
      " [1 0]]\n"
     ]
    }
   ],
   "source": [
    "## 從固定大小的亂數值開始（舊版）\n",
    "\n",
    "normal = np.random.randn(3, 2)\n",
    "random = np.random.random((3,2))\n",
    "integers = np.random.randint(0, 10, size=(3,2))\n",
    "\n",
    "print(normal)\n",
    "print()\n",
    "print(random)\n",
    "print()\n",
    "print(integers)"
   ]
  }
 ],
 "metadata": {
  "colab": {
   "name": "03 Example_維元.ipynb",
   "provenance": []
  },
  "kernelspec": {
   "display_name": "Python 3",
   "language": "python",
   "name": "python3"
  },
  "language_info": {
   "codemirror_mode": {
    "name": "ipython",
    "version": 3
   },
   "file_extension": ".py",
   "mimetype": "text/x-python",
   "name": "python",
   "nbconvert_exporter": "python",
   "pygments_lexer": "ipython3",
   "version": "3.8.11"
  }
 },
 "nbformat": 4,
 "nbformat_minor": 4
}
